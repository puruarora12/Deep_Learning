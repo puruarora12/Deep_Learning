{
 "cells": [
  {
   "cell_type": "code",
   "execution_count": 107,
   "metadata": {},
   "outputs": [],
   "source": [
    "import pandas\n",
    "import numpy as np\n",
    "import matplotlib.pyplot as plt\n",
    "import keras\n",
    "from keras.datasets import mnist\n",
    "from keras.models import Sequential\n",
    "from keras.layers import Dense, Dropout, Flatten, Activation , MaxPool2D ,convolutional\n",
    "from keras.utils.np_utils import to_categorical\n",
    "from sklearn.model_selection import train_test_split\n",
    "from keras import backend as K \n",
    "from sklearn import metrics "
   ]
  },
  {
   "cell_type": "code",
   "execution_count": 108,
   "metadata": {},
   "outputs": [],
   "source": [
    "with open('trainX.pickle', 'rb') as f:\n",
    "    X = list(pickle.load(f))\n",
    "    X=np.array(X)\n",
    "with open('trainY.pickle', 'rb') as f:\n",
    "    y = list(pickle.load(f))\n",
    "    y=np.array(y)\n",
    "with open('testX.pickle', 'rb') as f:\n",
    "    test = list(pickle.load(f))\n",
    "    test=np.array(test)\n",
    "#X"
   ]
  },
  {
   "cell_type": "code",
   "execution_count": 109,
   "metadata": {},
   "outputs": [],
   "source": [
    "X=X.reshape(X.shape[0],X.shape[1],X.shape[2],1)\n",
    "X=X/255\n",
    "test=test.reshape(test.shape[0],test.shape[1],test.shape[2],1)\n",
    "test=test/255\n",
    "y = to_categorical(y)\n",
    "X_train, X_test, y_train, y_test = train_test_split(X, y, test_size=0.2)"
   ]
  },
  {
   "cell_type": "code",
   "execution_count": 110,
   "metadata": {},
   "outputs": [
    {
     "name": "stdout",
     "output_type": "stream",
     "text": [
      "_________________________________________________________________\n",
      "Layer (type)                 Output Shape              Param #   \n",
      "=================================================================\n",
      "conv2d_16 (Conv2D)           (None, 26, 26, 16)        160       \n",
      "_________________________________________________________________\n",
      "activation_16 (Activation)   (None, 26, 26, 16)        0         \n",
      "_________________________________________________________________\n",
      "max_pooling2d_15 (MaxPooling (None, 13, 13, 16)        0         \n",
      "_________________________________________________________________\n",
      "conv2d_17 (Conv2D)           (None, 9, 9, 32)          12832     \n",
      "_________________________________________________________________\n",
      "max_pooling2d_16 (MaxPooling (None, 4, 4, 32)          0         \n",
      "_________________________________________________________________\n",
      "flatten_8 (Flatten)          (None, 512)               0         \n",
      "_________________________________________________________________\n",
      "dense_22 (Dense)             (None, 1024)              525312    \n",
      "_________________________________________________________________\n",
      "dense_23 (Dense)             (None, 256)               262400    \n",
      "_________________________________________________________________\n",
      "dense_24 (Dense)             (None, 10)                2570      \n",
      "_________________________________________________________________\n",
      "activation_17 (Activation)   (None, 10)                0         \n",
      "=================================================================\n",
      "Total params: 803,274\n",
      "Trainable params: 803,274\n",
      "Non-trainable params: 0\n",
      "_________________________________________________________________\n"
     ]
    }
   ],
   "source": [
    "seq = Sequential()\n",
    "\n",
    "seq.add(convolutional.Conv2D(16, (3,3), input_shape=(28,28,1)))\n",
    "seq.add(Activation('relu'))\n",
    "seq.add(MaxPool2D((2,2)))\n",
    "\n",
    "seq.add(Conv2D(32, (5,5), activation='relu'))\n",
    "seq.add(MaxPool2D((2,2)))\n",
    "seq.add(Flatten())\n",
    "\n",
    "seq.add(Dense(1024, activation='sigmoid'))\n",
    "seq.add(Dense(256, activation='tanh'))\n",
    "seq.add(Dense(10))\n",
    "seq.add(Activation('softmax'))\n",
    "\n",
    "seq.summary()"
   ]
  },
  {
   "cell_type": "code",
   "execution_count": 111,
   "metadata": {},
   "outputs": [],
   "source": [
    "seq.compile(loss='categorical_crossentropy', optimizer='adam', metrics=['accuracy'])"
   ]
  },
  {
   "cell_type": "code",
   "execution_count": 112,
   "metadata": {},
   "outputs": [
    {
     "name": "stdout",
     "output_type": "stream",
     "text": [
      "Train on 48000 samples, validate on 12000 samples\n",
      "Epoch 1/30\n",
      "48000/48000 [==============================] - 50s 1ms/step - loss: 0.5926 - acc: 0.7767 - val_loss: 0.3910 - val_acc: 0.8552\n",
      "Epoch 2/30\n",
      "48000/48000 [==============================] - 43s 895us/step - loss: 0.3686 - acc: 0.8645 - val_loss: 0.3380 - val_acc: 0.8722\n",
      "Epoch 3/30\n",
      "48000/48000 [==============================] - 41s 860us/step - loss: 0.3104 - acc: 0.8860 - val_loss: 0.3423 - val_acc: 0.8725\n",
      "Epoch 4/30\n",
      "48000/48000 [==============================] - 41s 858us/step - loss: 0.2741 - acc: 0.8986 - val_loss: 0.2876 - val_acc: 0.8969\n",
      "Epoch 5/30\n",
      "48000/48000 [==============================] - 42s 865us/step - loss: 0.2462 - acc: 0.9076 - val_loss: 0.2879 - val_acc: 0.8954\n",
      "Epoch 6/30\n",
      "48000/48000 [==============================] - 55s 1ms/step - loss: 0.2215 - acc: 0.9177 - val_loss: 0.2617 - val_acc: 0.9067\n",
      "Epoch 7/30\n",
      "48000/48000 [==============================] - 93s 2ms/step - loss: 0.1980 - acc: 0.9240 - val_loss: 0.2698 - val_acc: 0.90600s - loss: - ETA: 7s - loss: 0.1\n",
      "Epoch 8/30\n",
      "48000/48000 [==============================] - 91s 2ms/step - loss: 0.1771 - acc: 0.9333 - val_loss: 0.2543 - val_acc: 0.9093\n",
      "Epoch 9/30\n",
      "48000/48000 [==============================] - 91s 2ms/step - loss: 0.1587 - acc: 0.9399 - val_loss: 0.2806 - val_acc: 0.9059- loss: 0.1587 - acc: 0.9\n",
      "Epoch 10/30\n",
      "48000/48000 [==============================] - 91s 2ms/step - loss: 0.1412 - acc: 0.9459 - val_loss: 0.2827 - val_acc: 0.9071\n",
      "Epoch 11/30\n",
      "48000/48000 [==============================] - 89s 2ms/step - loss: 0.1247 - acc: 0.9533 - val_loss: 0.2770 - val_acc: 0.9113\n",
      "Epoch 12/30\n",
      "48000/48000 [==============================] - 88s 2ms/step - loss: 0.1097 - acc: 0.9589 - val_loss: 0.3081 - val_acc: 0.9079\n",
      "Epoch 13/30\n",
      "48000/48000 [==============================] - 89s 2ms/step - loss: 0.0978 - acc: 0.9621 - val_loss: 0.3049 - val_acc: 0.9077\n",
      "Epoch 14/30\n",
      "48000/48000 [==============================] - 90s 2ms/step - loss: 0.0844 - acc: 0.9672 - val_loss: 0.3365 - val_acc: 0.9120\n",
      "Epoch 15/30\n",
      "48000/48000 [==============================] - 89s 2ms/step - loss: 0.0750 - acc: 0.9710 - val_loss: 0.3486 - val_acc: 0.9090\n",
      "Epoch 16/30\n",
      "48000/48000 [==============================] - 85s 2ms/step - loss: 0.0673 - acc: 0.9742 - val_loss: 0.3551 - val_acc: 0.9062\n",
      "Epoch 17/30\n",
      "48000/48000 [==============================] - 86s 2ms/step - loss: 0.0600 - acc: 0.9773 - val_loss: 0.3671 - val_acc: 0.9112\n",
      "Epoch 18/30\n",
      "48000/48000 [==============================] - 89s 2ms/step - loss: 0.0534 - acc: 0.9803 - val_loss: 0.4295 - val_acc: 0.9068\n",
      "Epoch 19/30\n",
      "48000/48000 [==============================] - 65s 1ms/step - loss: 0.0502 - acc: 0.9808 - val_loss: 0.4455 - val_acc: 0.9071\n",
      "Epoch 20/30\n",
      "48000/48000 [==============================] - 40s 832us/step - loss: 0.0419 - acc: 0.9843 - val_loss: 0.4191 - val_acc: 0.9113\n",
      "Epoch 21/30\n",
      "48000/48000 [==============================] - 41s 855us/step - loss: 0.0407 - acc: 0.9848 - val_loss: 0.4692 - val_acc: 0.9052\n",
      "Epoch 22/30\n",
      "48000/48000 [==============================] - 53s 1ms/step - loss: 0.0375 - acc: 0.9862 - val_loss: 0.4897 - val_acc: 0.9022\n",
      "Epoch 23/30\n",
      "48000/48000 [==============================] - 42s 884us/step - loss: 0.0359 - acc: 0.9870 - val_loss: 0.4611 - val_acc: 0.9087\n",
      "Epoch 24/30\n",
      "48000/48000 [==============================] - 39s 814us/step - loss: 0.0322 - acc: 0.9886 - val_loss: 0.4703 - val_acc: 0.9109\n",
      "Epoch 25/30\n",
      "48000/48000 [==============================] - 59s 1ms/step - loss: 0.0329 - acc: 0.9879 - val_loss: 0.4891 - val_acc: 0.9085\n",
      "Epoch 26/30\n",
      "48000/48000 [==============================] - 43s 902us/step - loss: 0.0296 - acc: 0.9889 - val_loss: 0.5276 - val_acc: 0.9033\n",
      "Epoch 27/30\n",
      "48000/48000 [==============================] - 44s 925us/step - loss: 0.0293 - acc: 0.9892 - val_loss: 0.5035 - val_acc: 0.9121\n",
      "Epoch 28/30\n",
      "48000/48000 [==============================] - 44s 927us/step - loss: 0.0253 - acc: 0.9909 - val_loss: 0.6041 - val_acc: 0.9029\n",
      "Epoch 29/30\n",
      "48000/48000 [==============================] - 44s 927us/step - loss: 0.0254 - acc: 0.9909 - val_loss: 0.5676 - val_acc: 0.9052\n",
      "Epoch 30/30\n",
      "48000/48000 [==============================] - 46s 961us/step - loss: 0.0260 - acc: 0.9912 - val_loss: 0.5201 - val_acc: 0.9075\n"
     ]
    }
   ],
   "source": [
    "data = seq.fit(X_train, y_train, epochs=30, shuffle=True, validation_data=(X_test, y_test))"
   ]
  },
  {
   "cell_type": "code",
   "execution_count": 114,
   "metadata": {},
   "outputs": [
    {
     "data": {
      "image/png": "[encoded data removed]",
      "text/plain": [
       "<Figure size 432x288 with 1 Axes>"
      ]
     },
     "metadata": {
      "needs_background": "light"
     },
     "output_type": "display_data"
    },
    {
     "data": {
      "image/png": "[encoded data removed]",
      "text/plain": [
       "<Figure size 432x288 with 1 Axes>"
      ]
     },
     "metadata": {
      "needs_background": "light"
     },
     "output_type": "display_data"
    }
   ],
   "source": [
    "plt.figure()\n",
    "plt.plot(data.history['acc'], 'r', label='Training Accuracy')\n",
    "plt.plot(data.history['val_acc'], 'b', label='Testing Accuracy')\n",
    "plt.legend()\n",
    "plt.show()\n",
    "\n",
    "plt.figure()\n",
    "plt.plot(data.history['loss'], 'r', label='Training Loss')\n",
    "plt.plot(data.history['val_loss'], 'b', label='Testing Loss')\n",
    "plt.legend()\n",
    "plt.show()\n"
   ]
  },
  {
   "cell_type": "code",
   "execution_count": 118,
   "metadata": {},
   "outputs": [
    {
     "data": {
      "text/plain": [
       "(10000, 10)"
      ]
     },
     "execution_count": 118,
     "metadata": {},
     "output_type": "execute_result"
    }
   ],
   "source": [
    "result=seq.predict(test)\n",
    "result.shape"
   ]
  },
  {
   "cell_type": "code",
   "execution_count": 119,
   "metadata": {},
   "outputs": [],
   "source": [
    "result=result.argmax(axis=1)\n",
    "pickle.dump(result, open(\"result.pickle\", \"wb\"))"
   ]
  },
  {
   "cell_type": "code",
   "execution_count": null,
   "metadata": {},
   "outputs": [],
   "source": []
  },
  {
   "cell_type": "code",
   "execution_count": null,
   "metadata": {},
   "outputs": [],
   "source": []
  },
  {
   "cell_type": "code",
   "execution_count": null,
   "metadata": {},
   "outputs": [],
   "source": []
  }
 ],
 "metadata": {
  "kernelspec": {
   "display_name": "Python 3",
   "language": "python",
   "name": "python3"
  },
  "language_info": {
   "codemirror_mode": {
    "name": "ipython",
    "version": 3
   },
   "file_extension": ".py",
   "mimetype": "text/x-python",
   "name": "python",
   "nbconvert_exporter": "python",
   "pygments_lexer": "ipython3",
   "version": "3.7.1"
  }
 },
 "nbformat": 4,
 "nbformat_minor": 2
}
